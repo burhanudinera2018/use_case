{
 "cells": [
  {
   "cell_type": "code",
   "execution_count": 1,
   "metadata": {},
   "outputs": [
    {
     "data": {
      "text/html": [
       "<div>\n",
       "<style scoped>\n",
       "    .dataframe tbody tr th:only-of-type {\n",
       "        vertical-align: middle;\n",
       "    }\n",
       "\n",
       "    .dataframe tbody tr th {\n",
       "        vertical-align: top;\n",
       "    }\n",
       "\n",
       "    .dataframe thead th {\n",
       "        text-align: right;\n",
       "    }\n",
       "</style>\n",
       "<table border=\"1\" class=\"dataframe\">\n",
       "  <thead>\n",
       "    <tr style=\"text-align: right;\">\n",
       "      <th></th>\n",
       "      <th>product</th>\n",
       "      <th>reload_1</th>\n",
       "      <th>reload_2</th>\n",
       "      <th>video</th>\n",
       "      <th>music</th>\n",
       "      <th>games</th>\n",
       "      <th>chat_1</th>\n",
       "      <th>chat_2</th>\n",
       "      <th>socmed_1</th>\n",
       "      <th>socmed_2</th>\n",
       "      <th>internet</th>\n",
       "      <th>days_active</th>\n",
       "      <th>tenure</th>\n",
       "      <th>churn</th>\n",
       "    </tr>\n",
       "    <tr>\n",
       "      <th>customer_id</th>\n",
       "      <th></th>\n",
       "      <th></th>\n",
       "      <th></th>\n",
       "      <th></th>\n",
       "      <th></th>\n",
       "      <th></th>\n",
       "      <th></th>\n",
       "      <th></th>\n",
       "      <th></th>\n",
       "      <th></th>\n",
       "      <th></th>\n",
       "      <th></th>\n",
       "      <th></th>\n",
       "      <th></th>\n",
       "    </tr>\n",
       "  </thead>\n",
       "  <tbody>\n",
       "    <tr>\n",
       "      <th>285fae8412c4720a0c79d95f98434422</th>\n",
       "      <td>Kartu A</td>\n",
       "      <td>27734.30</td>\n",
       "      <td>24381.32</td>\n",
       "      <td>22000.0</td>\n",
       "      <td>33009.9</td>\n",
       "      <td>25669.97</td>\n",
       "      <td>1716.0</td>\n",
       "      <td>2145.0</td>\n",
       "      <td>0.0</td>\n",
       "      <td>792.0</td>\n",
       "      <td>11000.0</td>\n",
       "      <td>15</td>\n",
       "      <td>776</td>\n",
       "      <td>0</td>\n",
       "    </tr>\n",
       "    <tr>\n",
       "      <th>f45bce87ca6bf100f222fcc0db06b624</th>\n",
       "      <td>Kartu A</td>\n",
       "      <td>26433.00</td>\n",
       "      <td>26515.50</td>\n",
       "      <td>0.0</td>\n",
       "      <td>0.0</td>\n",
       "      <td>0.00</td>\n",
       "      <td>0.0</td>\n",
       "      <td>15444.0</td>\n",
       "      <td>0.0</td>\n",
       "      <td>0.0</td>\n",
       "      <td>74151.0</td>\n",
       "      <td>13</td>\n",
       "      <td>352</td>\n",
       "      <td>0</td>\n",
       "    </tr>\n",
       "    <tr>\n",
       "      <th>09b54557b1e2a10d998e3473a9ccd2a0</th>\n",
       "      <td>Kartu A</td>\n",
       "      <td>93212.17</td>\n",
       "      <td>67101.83</td>\n",
       "      <td>0.0</td>\n",
       "      <td>0.0</td>\n",
       "      <td>0.00</td>\n",
       "      <td>86795.5</td>\n",
       "      <td>94649.5</td>\n",
       "      <td>330.0</td>\n",
       "      <td>1485.0</td>\n",
       "      <td>27467.0</td>\n",
       "      <td>15</td>\n",
       "      <td>1987</td>\n",
       "      <td>0</td>\n",
       "    </tr>\n",
       "    <tr>\n",
       "      <th>11f252f48be36f93dd429f2ec86cb2f5</th>\n",
       "      <td>Kartu A</td>\n",
       "      <td>183.33</td>\n",
       "      <td>1087.17</td>\n",
       "      <td>0.0</td>\n",
       "      <td>0.0</td>\n",
       "      <td>0.00</td>\n",
       "      <td>0.0</td>\n",
       "      <td>0.0</td>\n",
       "      <td>0.0</td>\n",
       "      <td>0.0</td>\n",
       "      <td>0.0</td>\n",
       "      <td>2</td>\n",
       "      <td>285</td>\n",
       "      <td>0</td>\n",
       "    </tr>\n",
       "    <tr>\n",
       "      <th>a8df29ae9195eea348d2f74c967b978d</th>\n",
       "      <td>Kartu A</td>\n",
       "      <td>95296.67</td>\n",
       "      <td>76246.50</td>\n",
       "      <td>0.0</td>\n",
       "      <td>0.0</td>\n",
       "      <td>11000.00</td>\n",
       "      <td>118800.0</td>\n",
       "      <td>104940.0</td>\n",
       "      <td>0.0</td>\n",
       "      <td>0.0</td>\n",
       "      <td>63855.0</td>\n",
       "      <td>15</td>\n",
       "      <td>1081</td>\n",
       "      <td>0</td>\n",
       "    </tr>\n",
       "  </tbody>\n",
       "</table>\n",
       "</div>"
      ],
      "text/plain": [
       "                                  product  reload_1  reload_2    video  \\\n",
       "customer_id                                                              \n",
       "285fae8412c4720a0c79d95f98434422  Kartu A  27734.30  24381.32  22000.0   \n",
       "f45bce87ca6bf100f222fcc0db06b624  Kartu A  26433.00  26515.50      0.0   \n",
       "09b54557b1e2a10d998e3473a9ccd2a0  Kartu A  93212.17  67101.83      0.0   \n",
       "11f252f48be36f93dd429f2ec86cb2f5  Kartu A    183.33   1087.17      0.0   \n",
       "a8df29ae9195eea348d2f74c967b978d  Kartu A  95296.67  76246.50      0.0   \n",
       "\n",
       "                                    music     games    chat_1    chat_2  \\\n",
       "customer_id                                                               \n",
       "285fae8412c4720a0c79d95f98434422  33009.9  25669.97    1716.0    2145.0   \n",
       "f45bce87ca6bf100f222fcc0db06b624      0.0      0.00       0.0   15444.0   \n",
       "09b54557b1e2a10d998e3473a9ccd2a0      0.0      0.00   86795.5   94649.5   \n",
       "11f252f48be36f93dd429f2ec86cb2f5      0.0      0.00       0.0       0.0   \n",
       "a8df29ae9195eea348d2f74c967b978d      0.0  11000.00  118800.0  104940.0   \n",
       "\n",
       "                                  socmed_1  socmed_2  internet  days_active  \\\n",
       "customer_id                                                                   \n",
       "285fae8412c4720a0c79d95f98434422       0.0     792.0   11000.0           15   \n",
       "f45bce87ca6bf100f222fcc0db06b624       0.0       0.0   74151.0           13   \n",
       "09b54557b1e2a10d998e3473a9ccd2a0     330.0    1485.0   27467.0           15   \n",
       "11f252f48be36f93dd429f2ec86cb2f5       0.0       0.0       0.0            2   \n",
       "a8df29ae9195eea348d2f74c967b978d       0.0       0.0   63855.0           15   \n",
       "\n",
       "                                  tenure  churn  \n",
       "customer_id                                      \n",
       "285fae8412c4720a0c79d95f98434422     776      0  \n",
       "f45bce87ca6bf100f222fcc0db06b624     352      0  \n",
       "09b54557b1e2a10d998e3473a9ccd2a0    1987      0  \n",
       "11f252f48be36f93dd429f2ec86cb2f5     285      0  \n",
       "a8df29ae9195eea348d2f74c967b978d    1081      0  "
      ]
     },
     "execution_count": 1,
     "metadata": {},
     "output_type": "execute_result"
    }
   ],
   "source": [
    "import pandas as pd\n",
    "df1 = pd.read_csv('churnprediction.csv',sep=',',index_col=['customer_id'])\n",
    "df1.head(5)\n"
   ]
  },
  {
   "cell_type": "code",
   "execution_count": 2,
   "metadata": {},
   "outputs": [
    {
     "name": "stdout",
     "output_type": "stream",
     "text": [
      "<class 'pandas.core.frame.DataFrame'>\n",
      "Index: 10000 entries, 285fae8412c4720a0c79d95f98434422 to 2c5bc32bc9a9c393d393bfc11c409b0d\n",
      "Data columns (total 14 columns):\n",
      " #   Column       Non-Null Count  Dtype  \n",
      "---  ------       --------------  -----  \n",
      " 0   product      10000 non-null  object \n",
      " 1   reload_1     10000 non-null  float64\n",
      " 2   reload_2     10000 non-null  float64\n",
      " 3   video        10000 non-null  float64\n",
      " 4   music        10000 non-null  float64\n",
      " 5   games        10000 non-null  float64\n",
      " 6   chat_1       10000 non-null  float64\n",
      " 7   chat_2       10000 non-null  float64\n",
      " 8   socmed_1     10000 non-null  float64\n",
      " 9   socmed_2     10000 non-null  float64\n",
      " 10  internet     10000 non-null  float64\n",
      " 11  days_active  10000 non-null  int64  \n",
      " 12  tenure       10000 non-null  int64  \n",
      " 13  churn        10000 non-null  int64  \n",
      "dtypes: float64(10), int64(3), object(1)\n",
      "memory usage: 1.1+ MB\n"
     ]
    }
   ],
   "source": [
    "df1.info()"
   ]
  },
  {
   "cell_type": "code",
   "execution_count": 3,
   "metadata": {},
   "outputs": [],
   "source": [
    "dfAktifChurn = df1.groupby('churn').count()"
   ]
  },
  {
   "cell_type": "code",
   "execution_count": 4,
   "metadata": {},
   "outputs": [
    {
     "data": {
      "image/png": "[encoded data removed]",
      "text/plain": [
       "<Figure size 432x288 with 1 Axes>"
      ]
     },
     "metadata": {},
     "output_type": "display_data"
    }
   ],
   "source": [
    "import matplotlib.pyplot as plt\n",
    "plt.pie(dfAktifChurn['product'],labels=['Aktif','Churn'],autopct='%1.0f%%')\n",
    "plt.title('Persentase Pelanggan Aktife vs Churn')\n",
    "plt.axis('equal')\n",
    "plt.show()"
   ]
  },
  {
   "cell_type": "code",
   "execution_count": 5,
   "metadata": {},
   "outputs": [
    {
     "data": {
      "text/plain": [
       "Kartu C    7548\n",
       "Kartu B    1679\n",
       "Kartu A     773\n",
       "Name: product, dtype: int64"
      ]
     },
     "execution_count": 5,
     "metadata": {},
     "output_type": "execute_result"
    }
   ],
   "source": [
    "df1['product'].value_counts()"
   ]
  },
  {
   "cell_type": "code",
   "execution_count": 6,
   "metadata": {},
   "outputs": [
    {
     "data": {
      "text/html": [
       "<div>\n",
       "<style scoped>\n",
       "    .dataframe tbody tr th:only-of-type {\n",
       "        vertical-align: middle;\n",
       "    }\n",
       "\n",
       "    .dataframe tbody tr th {\n",
       "        vertical-align: top;\n",
       "    }\n",
       "\n",
       "    .dataframe thead th {\n",
       "        text-align: right;\n",
       "    }\n",
       "</style>\n",
       "<table border=\"1\" class=\"dataframe\">\n",
       "  <thead>\n",
       "    <tr style=\"text-align: right;\">\n",
       "      <th></th>\n",
       "      <th>Kartu A</th>\n",
       "      <th>Kartu B</th>\n",
       "      <th>Kartu C</th>\n",
       "    </tr>\n",
       "    <tr>\n",
       "      <th>customer_id</th>\n",
       "      <th></th>\n",
       "      <th></th>\n",
       "      <th></th>\n",
       "    </tr>\n",
       "  </thead>\n",
       "  <tbody>\n",
       "    <tr>\n",
       "      <th>285fae8412c4720a0c79d95f98434422</th>\n",
       "      <td>1</td>\n",
       "      <td>0</td>\n",
       "      <td>0</td>\n",
       "    </tr>\n",
       "    <tr>\n",
       "      <th>f45bce87ca6bf100f222fcc0db06b624</th>\n",
       "      <td>1</td>\n",
       "      <td>0</td>\n",
       "      <td>0</td>\n",
       "    </tr>\n",
       "    <tr>\n",
       "      <th>09b54557b1e2a10d998e3473a9ccd2a0</th>\n",
       "      <td>1</td>\n",
       "      <td>0</td>\n",
       "      <td>0</td>\n",
       "    </tr>\n",
       "    <tr>\n",
       "      <th>11f252f48be36f93dd429f2ec86cb2f5</th>\n",
       "      <td>1</td>\n",
       "      <td>0</td>\n",
       "      <td>0</td>\n",
       "    </tr>\n",
       "    <tr>\n",
       "      <th>a8df29ae9195eea348d2f74c967b978d</th>\n",
       "      <td>1</td>\n",
       "      <td>0</td>\n",
       "      <td>0</td>\n",
       "    </tr>\n",
       "    <tr>\n",
       "      <th>...</th>\n",
       "      <td>...</td>\n",
       "      <td>...</td>\n",
       "      <td>...</td>\n",
       "    </tr>\n",
       "    <tr>\n",
       "      <th>9e8b318d96caa9c0c4a50e8e59f5026c</th>\n",
       "      <td>0</td>\n",
       "      <td>1</td>\n",
       "      <td>0</td>\n",
       "    </tr>\n",
       "    <tr>\n",
       "      <th>a310627191bdbded3905ac73e77fe319</th>\n",
       "      <td>0</td>\n",
       "      <td>1</td>\n",
       "      <td>0</td>\n",
       "    </tr>\n",
       "    <tr>\n",
       "      <th>b6f11059e5c1df69b8c16d5c39af23dc</th>\n",
       "      <td>0</td>\n",
       "      <td>1</td>\n",
       "      <td>0</td>\n",
       "    </tr>\n",
       "    <tr>\n",
       "      <th>88709f1defd232243f729912be696f87</th>\n",
       "      <td>0</td>\n",
       "      <td>1</td>\n",
       "      <td>0</td>\n",
       "    </tr>\n",
       "    <tr>\n",
       "      <th>2c5bc32bc9a9c393d393bfc11c409b0d</th>\n",
       "      <td>0</td>\n",
       "      <td>0</td>\n",
       "      <td>1</td>\n",
       "    </tr>\n",
       "  </tbody>\n",
       "</table>\n",
       "<p>10000 rows × 3 columns</p>\n",
       "</div>"
      ],
      "text/plain": [
       "                                  Kartu A  Kartu B  Kartu C\n",
       "customer_id                                                \n",
       "285fae8412c4720a0c79d95f98434422        1        0        0\n",
       "f45bce87ca6bf100f222fcc0db06b624        1        0        0\n",
       "09b54557b1e2a10d998e3473a9ccd2a0        1        0        0\n",
       "11f252f48be36f93dd429f2ec86cb2f5        1        0        0\n",
       "a8df29ae9195eea348d2f74c967b978d        1        0        0\n",
       "...                                   ...      ...      ...\n",
       "9e8b318d96caa9c0c4a50e8e59f5026c        0        1        0\n",
       "a310627191bdbded3905ac73e77fe319        0        1        0\n",
       "b6f11059e5c1df69b8c16d5c39af23dc        0        1        0\n",
       "88709f1defd232243f729912be696f87        0        1        0\n",
       "2c5bc32bc9a9c393d393bfc11c409b0d        0        0        1\n",
       "\n",
       "[10000 rows x 3 columns]"
      ]
     },
     "execution_count": 6,
     "metadata": {},
     "output_type": "execute_result"
    }
   ],
   "source": [
    "pd.get_dummies(df1['product'])"
   ]
  },
  {
   "cell_type": "code",
   "execution_count": 7,
   "metadata": {},
   "outputs": [],
   "source": [
    "df2 = pd.concat([df1,pd.get_dummies(df1['product'])],axis=1,sort=False)"
   ]
  },
  {
   "cell_type": "code",
   "execution_count": 8,
   "metadata": {},
   "outputs": [],
   "source": [
    "df2.drop(['product'],axis=1,inplace=True)"
   ]
  },
  {
   "cell_type": "markdown",
   "metadata": {},
   "source": [
    "# Fiture Selection"
   ]
  },
  {
   "cell_type": "code",
   "execution_count": 9,
   "metadata": {},
   "outputs": [
    {
     "data": {
      "text/plain": [
       "<AxesSubplot:>"
      ]
     },
     "execution_count": 9,
     "metadata": {},
     "output_type": "execute_result"
    },
    {
     "data": {
      "image/png": "[encoded data removed]",
      "text/plain": [
       "<Figure size 432x288 with 2 Axes>"
      ]
     },
     "metadata": {
      "needs_background": "light"
     },
     "output_type": "display_data"
    }
   ],
   "source": [
    "import seaborn as sns\n",
    "sns.heatmap(df2.corr())"
   ]
  },
  {
   "cell_type": "code",
   "execution_count": 10,
   "metadata": {},
   "outputs": [],
   "source": [
    "X = df2.drop(['reload_2','socmed_2','games','music','churn'],axis=1, inplace=False)"
   ]
  },
  {
   "cell_type": "code",
   "execution_count": 11,
   "metadata": {},
   "outputs": [],
   "source": [
    "y = df2['churn']"
   ]
  },
  {
   "cell_type": "code",
   "execution_count": 12,
   "metadata": {},
   "outputs": [],
   "source": [
    "import sklearn.model_selection as ms\n",
    "X_train,X_test,y_train,y_test = ms.train_test_split(X,y,test_size=0.8, random_state=0)"
   ]
  },
  {
   "cell_type": "code",
   "execution_count": 13,
   "metadata": {},
   "outputs": [
    {
     "data": {
      "text/html": [
       "<div>\n",
       "<style scoped>\n",
       "    .dataframe tbody tr th:only-of-type {\n",
       "        vertical-align: middle;\n",
       "    }\n",
       "\n",
       "    .dataframe tbody tr th {\n",
       "        vertical-align: top;\n",
       "    }\n",
       "\n",
       "    .dataframe thead th {\n",
       "        text-align: right;\n",
       "    }\n",
       "</style>\n",
       "<table border=\"1\" class=\"dataframe\">\n",
       "  <thead>\n",
       "    <tr style=\"text-align: right;\">\n",
       "      <th></th>\n",
       "      <th>reload_1</th>\n",
       "      <th>reload_2</th>\n",
       "      <th>video</th>\n",
       "      <th>music</th>\n",
       "      <th>games</th>\n",
       "      <th>chat_1</th>\n",
       "      <th>chat_2</th>\n",
       "      <th>socmed_1</th>\n",
       "      <th>socmed_2</th>\n",
       "      <th>internet</th>\n",
       "      <th>days_active</th>\n",
       "      <th>tenure</th>\n",
       "      <th>churn</th>\n",
       "      <th>Kartu A</th>\n",
       "      <th>Kartu B</th>\n",
       "      <th>Kartu C</th>\n",
       "    </tr>\n",
       "    <tr>\n",
       "      <th>customer_id</th>\n",
       "      <th></th>\n",
       "      <th></th>\n",
       "      <th></th>\n",
       "      <th></th>\n",
       "      <th></th>\n",
       "      <th></th>\n",
       "      <th></th>\n",
       "      <th></th>\n",
       "      <th></th>\n",
       "      <th></th>\n",
       "      <th></th>\n",
       "      <th></th>\n",
       "      <th></th>\n",
       "      <th></th>\n",
       "      <th></th>\n",
       "      <th></th>\n",
       "    </tr>\n",
       "  </thead>\n",
       "  <tbody>\n",
       "    <tr>\n",
       "      <th>285fae8412c4720a0c79d95f98434422</th>\n",
       "      <td>27734.30</td>\n",
       "      <td>24381.32</td>\n",
       "      <td>22000.0</td>\n",
       "      <td>33009.9</td>\n",
       "      <td>25669.97</td>\n",
       "      <td>1716.0</td>\n",
       "      <td>2145.0</td>\n",
       "      <td>0.0</td>\n",
       "      <td>792.0</td>\n",
       "      <td>11000.0</td>\n",
       "      <td>15</td>\n",
       "      <td>776</td>\n",
       "      <td>0</td>\n",
       "      <td>1</td>\n",
       "      <td>0</td>\n",
       "      <td>0</td>\n",
       "    </tr>\n",
       "    <tr>\n",
       "      <th>f45bce87ca6bf100f222fcc0db06b624</th>\n",
       "      <td>26433.00</td>\n",
       "      <td>26515.50</td>\n",
       "      <td>0.0</td>\n",
       "      <td>0.0</td>\n",
       "      <td>0.00</td>\n",
       "      <td>0.0</td>\n",
       "      <td>15444.0</td>\n",
       "      <td>0.0</td>\n",
       "      <td>0.0</td>\n",
       "      <td>74151.0</td>\n",
       "      <td>13</td>\n",
       "      <td>352</td>\n",
       "      <td>0</td>\n",
       "      <td>1</td>\n",
       "      <td>0</td>\n",
       "      <td>0</td>\n",
       "    </tr>\n",
       "    <tr>\n",
       "      <th>09b54557b1e2a10d998e3473a9ccd2a0</th>\n",
       "      <td>93212.17</td>\n",
       "      <td>67101.83</td>\n",
       "      <td>0.0</td>\n",
       "      <td>0.0</td>\n",
       "      <td>0.00</td>\n",
       "      <td>86795.5</td>\n",
       "      <td>94649.5</td>\n",
       "      <td>330.0</td>\n",
       "      <td>1485.0</td>\n",
       "      <td>27467.0</td>\n",
       "      <td>15</td>\n",
       "      <td>1987</td>\n",
       "      <td>0</td>\n",
       "      <td>1</td>\n",
       "      <td>0</td>\n",
       "      <td>0</td>\n",
       "    </tr>\n",
       "    <tr>\n",
       "      <th>11f252f48be36f93dd429f2ec86cb2f5</th>\n",
       "      <td>183.33</td>\n",
       "      <td>1087.17</td>\n",
       "      <td>0.0</td>\n",
       "      <td>0.0</td>\n",
       "      <td>0.00</td>\n",
       "      <td>0.0</td>\n",
       "      <td>0.0</td>\n",
       "      <td>0.0</td>\n",
       "      <td>0.0</td>\n",
       "      <td>0.0</td>\n",
       "      <td>2</td>\n",
       "      <td>285</td>\n",
       "      <td>0</td>\n",
       "      <td>1</td>\n",
       "      <td>0</td>\n",
       "      <td>0</td>\n",
       "    </tr>\n",
       "    <tr>\n",
       "      <th>a8df29ae9195eea348d2f74c967b978d</th>\n",
       "      <td>95296.67</td>\n",
       "      <td>76246.50</td>\n",
       "      <td>0.0</td>\n",
       "      <td>0.0</td>\n",
       "      <td>11000.00</td>\n",
       "      <td>118800.0</td>\n",
       "      <td>104940.0</td>\n",
       "      <td>0.0</td>\n",
       "      <td>0.0</td>\n",
       "      <td>63855.0</td>\n",
       "      <td>15</td>\n",
       "      <td>1081</td>\n",
       "      <td>0</td>\n",
       "      <td>1</td>\n",
       "      <td>0</td>\n",
       "      <td>0</td>\n",
       "    </tr>\n",
       "  </tbody>\n",
       "</table>\n",
       "</div>"
      ],
      "text/plain": [
       "                                  reload_1  reload_2    video    music  \\\n",
       "customer_id                                                              \n",
       "285fae8412c4720a0c79d95f98434422  27734.30  24381.32  22000.0  33009.9   \n",
       "f45bce87ca6bf100f222fcc0db06b624  26433.00  26515.50      0.0      0.0   \n",
       "09b54557b1e2a10d998e3473a9ccd2a0  93212.17  67101.83      0.0      0.0   \n",
       "11f252f48be36f93dd429f2ec86cb2f5    183.33   1087.17      0.0      0.0   \n",
       "a8df29ae9195eea348d2f74c967b978d  95296.67  76246.50      0.0      0.0   \n",
       "\n",
       "                                     games    chat_1    chat_2  socmed_1  \\\n",
       "customer_id                                                                \n",
       "285fae8412c4720a0c79d95f98434422  25669.97    1716.0    2145.0       0.0   \n",
       "f45bce87ca6bf100f222fcc0db06b624      0.00       0.0   15444.0       0.0   \n",
       "09b54557b1e2a10d998e3473a9ccd2a0      0.00   86795.5   94649.5     330.0   \n",
       "11f252f48be36f93dd429f2ec86cb2f5      0.00       0.0       0.0       0.0   \n",
       "a8df29ae9195eea348d2f74c967b978d  11000.00  118800.0  104940.0       0.0   \n",
       "\n",
       "                                  socmed_2  internet  days_active  tenure  \\\n",
       "customer_id                                                                 \n",
       "285fae8412c4720a0c79d95f98434422     792.0   11000.0           15     776   \n",
       "f45bce87ca6bf100f222fcc0db06b624       0.0   74151.0           13     352   \n",
       "09b54557b1e2a10d998e3473a9ccd2a0    1485.0   27467.0           15    1987   \n",
       "11f252f48be36f93dd429f2ec86cb2f5       0.0       0.0            2     285   \n",
       "a8df29ae9195eea348d2f74c967b978d       0.0   63855.0           15    1081   \n",
       "\n",
       "                                  churn  Kartu A  Kartu B  Kartu C  \n",
       "customer_id                                                         \n",
       "285fae8412c4720a0c79d95f98434422      0        1        0        0  \n",
       "f45bce87ca6bf100f222fcc0db06b624      0        1        0        0  \n",
       "09b54557b1e2a10d998e3473a9ccd2a0      0        1        0        0  \n",
       "11f252f48be36f93dd429f2ec86cb2f5      0        1        0        0  \n",
       "a8df29ae9195eea348d2f74c967b978d      0        1        0        0  "
      ]
     },
     "execution_count": 13,
     "metadata": {},
     "output_type": "execute_result"
    }
   ],
   "source": [
    "df2.head()"
   ]
  },
  {
   "cell_type": "markdown",
   "metadata": {},
   "source": [
    "# Normailasi data"
   ]
  },
  {
   "cell_type": "markdown",
   "metadata": {},
   "source": [
    "import sklearn.preprocessing as pp\n",
    "scl = pp.StandardScaler(copy=True, with_mean=True, with_std=True)\n",
    "scl.fit(X_train)\n",
    "X_train = scl.transform(X_train)\n",
    "X_test = scl.transform(X_test)"
   ]
  },
  {
   "cell_type": "markdown",
   "metadata": {},
   "source": [
    "# Logistic Regression"
   ]
  },
  {
   "cell_type": "code",
   "execution_count": 15,
   "metadata": {},
   "outputs": [
    {
     "data": {
      "text/plain": [
       "LogisticRegression()"
      ]
     },
     "execution_count": 15,
     "metadata": {},
     "output_type": "execute_result"
    }
   ],
   "source": [
    "import sklearn.model_selection as ms\n",
    "import sklearn.linear_model as lm\n",
    "import sklearn.metrics as met\n",
    "model = lm.LogisticRegression(solver='lbfgs')\n",
    "model.fit(X_train, y_train)"
   ]
  },
  {
   "cell_type": "markdown",
   "metadata": {},
   "source": [
    "# Melatih model"
   ]
  },
  {
   "cell_type": "code",
   "execution_count": 16,
   "metadata": {},
   "outputs": [
    {
     "name": "stdout",
     "output_type": "stream",
     "text": [
      "[1 0 0 ... 0 0 0]\n"
     ]
    }
   ],
   "source": [
    "y_prediksi = model.predict(X_test)\n",
    "print(y_prediksi)"
   ]
  },
  {
   "cell_type": "code",
   "execution_count": 17,
   "metadata": {},
   "outputs": [
    {
     "name": "stdout",
     "output_type": "stream",
     "text": [
      "accuracy = 0.82975\n"
     ]
    }
   ],
   "source": [
    "score = met.accuracy_score(y_test, y_prediksi)\n",
    "print(\"accuracy =\", score)"
   ]
  },
  {
   "cell_type": "code",
   "execution_count": 18,
   "metadata": {},
   "outputs": [
    {
     "name": "stdout",
     "output_type": "stream",
     "text": [
      "precision = 0.6264674493062967\n"
     ]
    }
   ],
   "source": [
    "precision = met.precision_score(y_test,y_prediksi)\n",
    "print(\"precision =\",precision)"
   ]
  },
  {
   "cell_type": "code",
   "execution_count": 19,
   "metadata": {},
   "outputs": [
    {
     "name": "stdout",
     "output_type": "stream",
     "text": [
      "recall = 0.367104440275172\n"
     ]
    }
   ],
   "source": [
    "recall = met.recall_score(y_test,y_prediksi)\n",
    "print(\"recall =\",recall)"
   ]
  },
  {
   "cell_type": "code",
   "execution_count": 20,
   "metadata": {},
   "outputs": [
    {
     "name": "stdout",
     "output_type": "stream",
     "text": [
      "AUC = 0.6562127419310558\n"
     ]
    }
   ],
   "source": [
    "auc = met.roc_auc_score(y_test,y_prediksi)\n",
    "print(\"AUC =\", auc)"
   ]
  },
  {
   "cell_type": "markdown",
   "metadata": {},
   "source": [
    "# Algorithm Random Forest"
   ]
  },
  {
   "cell_type": "code",
   "execution_count": 21,
   "metadata": {},
   "outputs": [
    {
     "data": {
      "text/plain": [
       "RandomForestClassifier(n_estimators=200, random_state=0)"
      ]
     },
     "execution_count": 21,
     "metadata": {},
     "output_type": "execute_result"
    }
   ],
   "source": [
    "import sklearn.ensemble as ens\n",
    "import sklearn.metrics as met\n",
    "model = ens.RandomForestClassifier(n_estimators=200, random_state=0)\n",
    "model.fit(X_train, y_train)"
   ]
  },
  {
   "cell_type": "code",
   "execution_count": 22,
   "metadata": {},
   "outputs": [
    {
     "name": "stdout",
     "output_type": "stream",
     "text": [
      "[1 0 1 ... 1 0 0]\n",
      "accuracy = 0.911375\n",
      "precision = 0.801490514905149\n",
      "recall = 0.7398373983739838\n",
      "AUC = 0.8470316502883822\n"
     ]
    }
   ],
   "source": [
    "y_prediksi = model.predict(X_test)\n",
    "print(y_prediksi)\n",
    "score = met.accuracy_score(y_test, y_prediksi)\n",
    "print(\"accuracy =\", score)\n",
    "precision = met.precision_score(y_test,y_prediksi)\n",
    "print(\"precision =\",precision)\n",
    "recall = met.recall_score(y_test,y_prediksi)\n",
    "print(\"recall =\",recall)\n",
    "auc = met.roc_auc_score(y_test,y_prediksi)\n",
    "print(\"AUC =\", auc)"
   ]
  },
  {
   "cell_type": "code",
   "execution_count": 23,
   "metadata": {},
   "outputs": [
    {
     "data": {
      "text/plain": [
       "<AxesSubplot:>"
      ]
     },
     "execution_count": 23,
     "metadata": {},
     "output_type": "execute_result"
    },
    {
     "data": {
      "image/png": "[encoded data removed]",
      "text/plain": [
       "<Figure size 432x288 with 1 Axes>"
      ]
     },
     "metadata": {
      "needs_background": "light"
     },
     "output_type": "display_data"
    }
   ],
   "source": [
    "feature_penting = pd.Series(model.feature_importances_,index=X.columns)\n",
    "feature_penting.nlargest(10).plot(kind='barh')"
   ]
  },
  {
   "cell_type": "code",
   "execution_count": null,
   "metadata": {},
   "outputs": [],
   "source": []
  }
 ],
 "metadata": {
  "kernelspec": {
   "display_name": "Python 3",
   "language": "python",
   "name": "python3"
  },
  "language_info": {
   "codemirror_mode": {
    "name": "ipython",
    "version": 3
   },
   "file_extension": ".py",
   "mimetype": "text/x-python",
   "name": "python",
   "nbconvert_exporter": "python",
   "pygments_lexer": "ipython3",
   "version": "3.8.5"
  }
 },
 "nbformat": 4,
 "nbformat_minor": 4
}
